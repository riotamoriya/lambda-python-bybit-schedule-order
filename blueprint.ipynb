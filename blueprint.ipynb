{
 "cells": [
  {
   "cell_type": "code",
   "execution_count": 12,
   "metadata": {},
   "outputs": [],
   "source": [
    "import os\n",
    "from dotenv import load_dotenv\n",
    "load_dotenv()\n",
    "\n",
    "API_KEY:str = os.environ[\"API_KEY\"]\n",
    "API_SECRET:str = os.environ[\"API_SECRET\"]\n",
    "\n",
    "AWS_ACCESS_KEY_ID=os.environ[\"AWS_ACCESS_KEY_ID\"]\n",
    "AWS_SECRET_ACCESS_KEY=os.environ[\"AWS_SECRET_ACCESS_KEY\"]"
   ]
  },
  {
   "cell_type": "code",
   "execution_count": 6,
   "metadata": {},
   "outputs": [
    {
     "name": "stdout",
     "output_type": "stream",
     "text": [
      "{'retCode': 0, 'retMsg': 'success', 'result': {'memberId': '1368341', 'accountType': 'SPOT', 'balance': [{'coin': 'USDT', 'transferBalance': '622.2536', 'walletBalance': '622.2536', 'bonus': ''}]}, 'retExtInfo': {}, 'time': 1697590225263}\n"
     ]
    }
   ],
   "source": [
    "from pybit.unified_trading import HTTP\n",
    "\n",
    "session = HTTP(\n",
    "    testnet=False,\n",
    "    api_key=API_KEY,\n",
    "    api_secret=API_SECRET\n",
    ")\n",
    "print(session.get_coins_balance(\n",
    "    accountType=\"SPOT\",\n",
    "    coin=\"USDT\",\n",
    "))"
   ]
  },
  {
   "cell_type": "code",
   "execution_count": 7,
   "metadata": {},
   "outputs": [
    {
     "name": "stdout",
     "output_type": "stream",
     "text": [
      "{'retCode': 0, 'retMsg': 'OK', 'result': {'orderId': '1533909603205519104', 'orderLinkId': 'spot-test-postonly'}, 'retExtInfo': {}, 'time': 1697592274037}\n"
     ]
    }
   ],
   "source": [
    "print(session.place_order(\n",
    "    category=\"spot\",\n",
    "    symbol=\"XRPUSDT\",\n",
    "    side=\"Buy\",\n",
    "    orderType=\"Market\",\n",
    "    qty=\"1\",\n",
    "    timeInForce=\"GTC\",\n",
    "    orderLinkId=\"spot-test-postonly\",\n",
    "    isLeverage=0,\n",
    "))"
   ]
  },
  {
   "cell_type": "code",
   "execution_count": 5,
   "metadata": {},
   "outputs": [
    {
     "ename": "ClientError",
     "evalue": "An error occurred (UnrecognizedClientException) when calling the GetItem operation: The security token included in the request is invalid.",
     "output_type": "error",
     "traceback": [
      "\u001b[0;31m---------------------------------------------------------------------------\u001b[0m",
      "\u001b[0;31mClientError\u001b[0m                               Traceback (most recent call last)",
      "\u001b[1;32m/Users/dyethesky/myApp/python/lambda-python-bybit-schedule-order/blueprint.ipynb セル 4\u001b[0m line \u001b[0;36m1\n\u001b[1;32m      <a href='vscode-notebook-cell:/Users/dyethesky/myApp/python/lambda-python-bybit-schedule-order/blueprint.ipynb#W5sZmlsZQ%3D%3D?line=6'>7</a>\u001b[0m table \u001b[39m=\u001b[39m dynamodb\u001b[39m.\u001b[39mTable(\u001b[39m'\u001b[39m\u001b[39mbybit-order-list\u001b[39m\u001b[39m'\u001b[39m)\n\u001b[1;32m      <a href='vscode-notebook-cell:/Users/dyethesky/myApp/python/lambda-python-bybit-schedule-order/blueprint.ipynb#W5sZmlsZQ%3D%3D?line=8'>9</a>\u001b[0m \u001b[39m# パーティションキーを使用して項目を取得\u001b[39;00m\n\u001b[0;32m---> <a href='vscode-notebook-cell:/Users/dyethesky/myApp/python/lambda-python-bybit-schedule-order/blueprint.ipynb#W5sZmlsZQ%3D%3D?line=9'>10</a>\u001b[0m response \u001b[39m=\u001b[39m table\u001b[39m.\u001b[39;49mget_item(\n\u001b[1;32m     <a href='vscode-notebook-cell:/Users/dyethesky/myApp/python/lambda-python-bybit-schedule-order/blueprint.ipynb#W5sZmlsZQ%3D%3D?line=10'>11</a>\u001b[0m     Key\u001b[39m=\u001b[39;49m{\n\u001b[1;32m     <a href='vscode-notebook-cell:/Users/dyethesky/myApp/python/lambda-python-bybit-schedule-order/blueprint.ipynb#W5sZmlsZQ%3D%3D?line=11'>12</a>\u001b[0m         \u001b[39m'\u001b[39;49m\u001b[39mkey\u001b[39;49m\u001b[39m'\u001b[39;49m: {\u001b[39m'\u001b[39;49m\u001b[39mN\u001b[39;49m\u001b[39m'\u001b[39;49m: \u001b[39m'\u001b[39;49m\u001b[39m1\u001b[39;49m\u001b[39m'\u001b[39;49m}\n\u001b[1;32m     <a href='vscode-notebook-cell:/Users/dyethesky/myApp/python/lambda-python-bybit-schedule-order/blueprint.ipynb#W5sZmlsZQ%3D%3D?line=12'>13</a>\u001b[0m     }\n\u001b[1;32m     <a href='vscode-notebook-cell:/Users/dyethesky/myApp/python/lambda-python-bybit-schedule-order/blueprint.ipynb#W5sZmlsZQ%3D%3D?line=13'>14</a>\u001b[0m )\n\u001b[1;32m     <a href='vscode-notebook-cell:/Users/dyethesky/myApp/python/lambda-python-bybit-schedule-order/blueprint.ipynb#W5sZmlsZQ%3D%3D?line=15'>16</a>\u001b[0m \u001b[39m# 取得した項目の表示\u001b[39;00m\n\u001b[1;32m     <a href='vscode-notebook-cell:/Users/dyethesky/myApp/python/lambda-python-bybit-schedule-order/blueprint.ipynb#W5sZmlsZQ%3D%3D?line=16'>17</a>\u001b[0m item \u001b[39m=\u001b[39m response[\u001b[39m'\u001b[39m\u001b[39mItem\u001b[39m\u001b[39m'\u001b[39m]\n",
      "File \u001b[0;32m~/.pyenv/versions/anaconda3-5.3.1/envs/python-develop-environment1/lib/python3.10/site-packages/boto3/resources/factory.py:580\u001b[0m, in \u001b[0;36mResourceFactory._create_action.<locals>.do_action\u001b[0;34m(self, *args, **kwargs)\u001b[0m\n\u001b[1;32m    579\u001b[0m \u001b[39mdef\u001b[39;00m \u001b[39mdo_action\u001b[39m(\u001b[39mself\u001b[39m, \u001b[39m*\u001b[39margs, \u001b[39m*\u001b[39m\u001b[39m*\u001b[39mkwargs):\n\u001b[0;32m--> 580\u001b[0m     response \u001b[39m=\u001b[39m action(\u001b[39mself\u001b[39;49m, \u001b[39m*\u001b[39;49margs, \u001b[39m*\u001b[39;49m\u001b[39m*\u001b[39;49mkwargs)\n\u001b[1;32m    582\u001b[0m     \u001b[39mif\u001b[39;00m \u001b[39mhasattr\u001b[39m(\u001b[39mself\u001b[39m, \u001b[39m'\u001b[39m\u001b[39mload\u001b[39m\u001b[39m'\u001b[39m):\n\u001b[1;32m    583\u001b[0m         \u001b[39m# Clear cached data. It will be reloaded the next\u001b[39;00m\n\u001b[1;32m    584\u001b[0m         \u001b[39m# time that an attribute is accessed.\u001b[39;00m\n\u001b[1;32m    585\u001b[0m         \u001b[39m# TODO: Make this configurable in the future?\u001b[39;00m\n\u001b[1;32m    586\u001b[0m         \u001b[39mself\u001b[39m\u001b[39m.\u001b[39mmeta\u001b[39m.\u001b[39mdata \u001b[39m=\u001b[39m \u001b[39mNone\u001b[39;00m\n",
      "File \u001b[0;32m~/.pyenv/versions/anaconda3-5.3.1/envs/python-develop-environment1/lib/python3.10/site-packages/boto3/resources/action.py:88\u001b[0m, in \u001b[0;36mServiceAction.__call__\u001b[0;34m(self, parent, *args, **kwargs)\u001b[0m\n\u001b[1;32m     79\u001b[0m params\u001b[39m.\u001b[39mupdate(kwargs)\n\u001b[1;32m     81\u001b[0m logger\u001b[39m.\u001b[39mdebug(\n\u001b[1;32m     82\u001b[0m     \u001b[39m'\u001b[39m\u001b[39mCalling \u001b[39m\u001b[39m%s\u001b[39;00m\u001b[39m:\u001b[39m\u001b[39m%s\u001b[39;00m\u001b[39m with \u001b[39m\u001b[39m%r\u001b[39;00m\u001b[39m'\u001b[39m,\n\u001b[1;32m     83\u001b[0m     parent\u001b[39m.\u001b[39mmeta\u001b[39m.\u001b[39mservice_name,\n\u001b[1;32m     84\u001b[0m     operation_name,\n\u001b[1;32m     85\u001b[0m     params,\n\u001b[1;32m     86\u001b[0m )\n\u001b[0;32m---> 88\u001b[0m response \u001b[39m=\u001b[39m \u001b[39mgetattr\u001b[39;49m(parent\u001b[39m.\u001b[39;49mmeta\u001b[39m.\u001b[39;49mclient, operation_name)(\u001b[39m*\u001b[39;49margs, \u001b[39m*\u001b[39;49m\u001b[39m*\u001b[39;49mparams)\n\u001b[1;32m     90\u001b[0m logger\u001b[39m.\u001b[39mdebug(\u001b[39m'\u001b[39m\u001b[39mResponse: \u001b[39m\u001b[39m%r\u001b[39;00m\u001b[39m'\u001b[39m, response)\n\u001b[1;32m     92\u001b[0m \u001b[39mreturn\u001b[39;00m \u001b[39mself\u001b[39m\u001b[39m.\u001b[39m_response_handler(parent, params, response)\n",
      "File \u001b[0;32m~/.pyenv/versions/anaconda3-5.3.1/envs/python-develop-environment1/lib/python3.10/site-packages/botocore/client.py:535\u001b[0m, in \u001b[0;36mClientCreator._create_api_method.<locals>._api_call\u001b[0;34m(self, *args, **kwargs)\u001b[0m\n\u001b[1;32m    531\u001b[0m     \u001b[39mraise\u001b[39;00m \u001b[39mTypeError\u001b[39;00m(\n\u001b[1;32m    532\u001b[0m         \u001b[39mf\u001b[39m\u001b[39m\"\u001b[39m\u001b[39m{\u001b[39;00mpy_operation_name\u001b[39m}\u001b[39;00m\u001b[39m() only accepts keyword arguments.\u001b[39m\u001b[39m\"\u001b[39m\n\u001b[1;32m    533\u001b[0m     )\n\u001b[1;32m    534\u001b[0m \u001b[39m# The \"self\" in this scope is referring to the BaseClient.\u001b[39;00m\n\u001b[0;32m--> 535\u001b[0m \u001b[39mreturn\u001b[39;00m \u001b[39mself\u001b[39;49m\u001b[39m.\u001b[39;49m_make_api_call(operation_name, kwargs)\n",
      "File \u001b[0;32m~/.pyenv/versions/anaconda3-5.3.1/envs/python-develop-environment1/lib/python3.10/site-packages/botocore/client.py:980\u001b[0m, in \u001b[0;36mBaseClient._make_api_call\u001b[0;34m(self, operation_name, api_params)\u001b[0m\n\u001b[1;32m    978\u001b[0m     error_code \u001b[39m=\u001b[39m parsed_response\u001b[39m.\u001b[39mget(\u001b[39m\"\u001b[39m\u001b[39mError\u001b[39m\u001b[39m\"\u001b[39m, {})\u001b[39m.\u001b[39mget(\u001b[39m\"\u001b[39m\u001b[39mCode\u001b[39m\u001b[39m\"\u001b[39m)\n\u001b[1;32m    979\u001b[0m     error_class \u001b[39m=\u001b[39m \u001b[39mself\u001b[39m\u001b[39m.\u001b[39mexceptions\u001b[39m.\u001b[39mfrom_code(error_code)\n\u001b[0;32m--> 980\u001b[0m     \u001b[39mraise\u001b[39;00m error_class(parsed_response, operation_name)\n\u001b[1;32m    981\u001b[0m \u001b[39melse\u001b[39;00m:\n\u001b[1;32m    982\u001b[0m     \u001b[39mreturn\u001b[39;00m parsed_response\n",
      "\u001b[0;31mClientError\u001b[0m: An error occurred (UnrecognizedClientException) when calling the GetItem operation: The security token included in the request is invalid."
     ]
    }
   ],
   "source": [
    "import boto3\n",
    "\n",
    "# DynamoDBオブジェクトの作成\n",
    "dynamodb = boto3.resource('dynamodb', region_name='us-east-1')\n",
    "\n",
    "# テーブル名'YourTableName'のテーブルオブジェクトの作成\n",
    "table = dynamodb.Table('bybit-order-list')\n",
    "\n",
    "# パーティションキーを使用して項目を取得\n",
    "response = table.get_item(\n",
    "    Key={\n",
    "        'key': {'N': '1'}\n",
    "    }\n",
    ")\n",
    "\n",
    "# 取得した項目の表示\n",
    "item = response['Item']\n",
    "print(item)"
   ]
  },
  {
   "cell_type": "code",
   "execution_count": 16,
   "metadata": {},
   "outputs": [],
   "source": [
    "import boto3\n",
    "\n",
    "AWS_ACCESS_KEY_ID=os.environ[\"AWS_ACCESS_KEY_ID\"]\n",
    "AWS_SECRET_ACCESS_KEY=os.environ[\"AWS_SECRET_ACCESS_KEY\"]\n",
    "\n",
    "def read_my_order_from_dynamodb():\n",
    "    client = boto3.client('dynamodb', region_name='us-east-1',\n",
    "        aws_access_key_id=AWS_ACCESS_KEY_ID,\n",
    "        aws_secret_access_key=AWS_SECRET_ACCESS_KEY,\n",
    "    )\n",
    "\n",
    "    response = client.get_item(\n",
    "        TableName='bybit-order-list',\n",
    "        Key={\n",
    "            'key': {'N': '0'}\n",
    "        }\n",
    "    )\n",
    "\n",
    "    item = response.get('Item')\n",
    "    item = {k: list(v.values())[0] for k, v in item.items()}\n",
    "\n",
    "    return item\n",
    "\n"
   ]
  },
  {
   "cell_type": "code",
   "execution_count": null,
   "metadata": {},
   "outputs": [],
   "source": [
    "564037290334.dkr.ecr.us-east-1.amazonaws.com/lambda-python-bybit-schedule-order"
   ]
  },
  {
   "cell_type": "code",
   "execution_count": 17,
   "metadata": {},
   "outputs": [
    {
     "data": {
      "text/plain": [
       "{'orderLinkId': 'spot-test-postonly',\n",
       " 'isLeverage': '0',\n",
       " 'orderType': 'Market',\n",
       " 'symbol': 'XRPUSDT',\n",
       " 'qty': '1',\n",
       " 'category': 'spot',\n",
       " 'side': 'Buy',\n",
       " 'key': '0',\n",
       " 'timeInForce': 'GTC'}"
      ]
     },
     "execution_count": 17,
     "metadata": {},
     "output_type": "execute_result"
    }
   ],
   "source": [
    "aws ecr get-login-password --region us-east-1 | docker login --username AWS --password-stdin aws_account_id.dkr.ecr.region.amazonaws.com"
   ]
  }
 ],
 "metadata": {
  "kernelspec": {
   "display_name": "vscode_kernel",
   "language": "python",
   "name": "python3"
  },
  "language_info": {
   "codemirror_mode": {
    "name": "ipython",
    "version": 3
   },
   "file_extension": ".py",
   "mimetype": "text/x-python",
   "name": "python",
   "nbconvert_exporter": "python",
   "pygments_lexer": "ipython3",
   "version": "3.11.5"
  }
 },
 "nbformat": 4,
 "nbformat_minor": 2
}
